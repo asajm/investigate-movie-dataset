{
 "cells": [
  {
   "cell_type": "markdown",
   "metadata": {},
   "source": [
    "\n",
    "# Project: Investigate a Dataset (TMDb movies)\n",
    "\n",
    "## Table of Contents\n",
    "<ul>\n",
    "<li><a href=\"#intro\">Introduction</a></li>\n",
    "<li><a href=\"#wrangling\">Data Wrangling</a></li>\n",
    "<li><a href=\"#eda\">Exploratory Data Analysis</a></li>\n",
    "<li><a href=\"#conclusions\">Conclusions</a></li>\n",
    "</ul>"
   ]
  },
  {
   "cell_type": "markdown",
   "metadata": {},
   "source": [
    "<a id='intro'></a>\n",
    "## Introduction\n",
    "\n",
    "In this activity, I am going to explore factors that impact on the net profit of movies to help invsitors to garantee the intrest. The data set, which is going to be explored, contains information about 10,000 movies collected from The Movie Database (TMDb), including user ratings and revenue.\n",
    "\n",
    "The Question we are going to answer it is `What are factors have significant impact on the movies profits?`\n",
    "\n"
   ]
  },
  {
   "cell_type": "code",
   "execution_count": 1,
   "metadata": {},
   "outputs": [],
   "source": [
    "# Use this cell to set up import statements for all of the packages that you\n",
    "#   plan to use.\n",
    "import numpy as np\n",
    "import pandas as pd\n",
    "import matplotlib.pyplot as plt\n",
    "%matplotlib inline\n",
    "import seaborn as sns\n",
    "sns.set_style('darkgrid')\n"
   ]
  },
  {
   "cell_type": "markdown",
   "metadata": {},
   "source": [
    "<a id='wrangling'></a>\n",
    "## Data Wrangling\n",
    "\n",
    "\n",
    "<ul>\n",
    "<li><a href=\"#checking-up\">Checking up</a></li>\n",
    "<li><a href=\"#cleaning\">Correcting & Cleaning </a></li>\n",
    "</ul>\n",
    "\n",
    "<a id='checking-up'></a>\n",
    "### Checking Up\n",
    "Loading data set and then checking up null value, duplicate records, and types of attributes."
   ]
  },
  {
   "cell_type": "code",
   "execution_count": 2,
   "metadata": {
    "scrolled": false
   },
   "outputs": [
    {
     "data": {
      "text/html": [
       "<div>\n",
       "<style scoped>\n",
       "    .dataframe tbody tr th:only-of-type {\n",
       "        vertical-align: middle;\n",
       "    }\n",
       "\n",
       "    .dataframe tbody tr th {\n",
       "        vertical-align: top;\n",
       "    }\n",
       "\n",
       "    .dataframe thead th {\n",
       "        text-align: right;\n",
       "    }\n",
       "</style>\n",
       "<table border=\"1\" class=\"dataframe\">\n",
       "  <thead>\n",
       "    <tr style=\"text-align: right;\">\n",
       "      <th></th>\n",
       "      <th>id</th>\n",
       "      <th>imdb_id</th>\n",
       "      <th>popularity</th>\n",
       "      <th>budget</th>\n",
       "      <th>revenue</th>\n",
       "      <th>original_title</th>\n",
       "      <th>cast</th>\n",
       "      <th>homepage</th>\n",
       "      <th>director</th>\n",
       "      <th>tagline</th>\n",
       "      <th>...</th>\n",
       "      <th>overview</th>\n",
       "      <th>runtime</th>\n",
       "      <th>genres</th>\n",
       "      <th>production_companies</th>\n",
       "      <th>release_date</th>\n",
       "      <th>vote_count</th>\n",
       "      <th>vote_average</th>\n",
       "      <th>release_year</th>\n",
       "      <th>budget_adj</th>\n",
       "      <th>revenue_adj</th>\n",
       "    </tr>\n",
       "  </thead>\n",
       "  <tbody>\n",
       "    <tr>\n",
       "      <th>0</th>\n",
       "      <td>135397</td>\n",
       "      <td>tt0369610</td>\n",
       "      <td>32.985763</td>\n",
       "      <td>150000000</td>\n",
       "      <td>1513528810</td>\n",
       "      <td>Jurassic World</td>\n",
       "      <td>Chris Pratt|Bryce Dallas Howard|Irrfan Khan|Vi...</td>\n",
       "      <td>http://www.jurassicworld.com/</td>\n",
       "      <td>Colin Trevorrow</td>\n",
       "      <td>The park is open.</td>\n",
       "      <td>...</td>\n",
       "      <td>Twenty-two years after the events of Jurassic ...</td>\n",
       "      <td>124</td>\n",
       "      <td>Action|Adventure|Science Fiction|Thriller</td>\n",
       "      <td>Universal Studios|Amblin Entertainment|Legenda...</td>\n",
       "      <td>6/9/15</td>\n",
       "      <td>5562</td>\n",
       "      <td>6.5</td>\n",
       "      <td>2015</td>\n",
       "      <td>1.379999e+08</td>\n",
       "      <td>1.392446e+09</td>\n",
       "    </tr>\n",
       "    <tr>\n",
       "      <th>1</th>\n",
       "      <td>76341</td>\n",
       "      <td>tt1392190</td>\n",
       "      <td>28.419936</td>\n",
       "      <td>150000000</td>\n",
       "      <td>378436354</td>\n",
       "      <td>Mad Max: Fury Road</td>\n",
       "      <td>Tom Hardy|Charlize Theron|Hugh Keays-Byrne|Nic...</td>\n",
       "      <td>http://www.madmaxmovie.com/</td>\n",
       "      <td>George Miller</td>\n",
       "      <td>What a Lovely Day.</td>\n",
       "      <td>...</td>\n",
       "      <td>An apocalyptic story set in the furthest reach...</td>\n",
       "      <td>120</td>\n",
       "      <td>Action|Adventure|Science Fiction|Thriller</td>\n",
       "      <td>Village Roadshow Pictures|Kennedy Miller Produ...</td>\n",
       "      <td>5/13/15</td>\n",
       "      <td>6185</td>\n",
       "      <td>7.1</td>\n",
       "      <td>2015</td>\n",
       "      <td>1.379999e+08</td>\n",
       "      <td>3.481613e+08</td>\n",
       "    </tr>\n",
       "    <tr>\n",
       "      <th>2</th>\n",
       "      <td>262500</td>\n",
       "      <td>tt2908446</td>\n",
       "      <td>13.112507</td>\n",
       "      <td>110000000</td>\n",
       "      <td>295238201</td>\n",
       "      <td>Insurgent</td>\n",
       "      <td>Shailene Woodley|Theo James|Kate Winslet|Ansel...</td>\n",
       "      <td>http://www.thedivergentseries.movie/#insurgent</td>\n",
       "      <td>Robert Schwentke</td>\n",
       "      <td>One Choice Can Destroy You</td>\n",
       "      <td>...</td>\n",
       "      <td>Beatrice Prior must confront her inner demons ...</td>\n",
       "      <td>119</td>\n",
       "      <td>Adventure|Science Fiction|Thriller</td>\n",
       "      <td>Summit Entertainment|Mandeville Films|Red Wago...</td>\n",
       "      <td>3/18/15</td>\n",
       "      <td>2480</td>\n",
       "      <td>6.3</td>\n",
       "      <td>2015</td>\n",
       "      <td>1.012000e+08</td>\n",
       "      <td>2.716190e+08</td>\n",
       "    </tr>\n",
       "    <tr>\n",
       "      <th>3</th>\n",
       "      <td>140607</td>\n",
       "      <td>tt2488496</td>\n",
       "      <td>11.173104</td>\n",
       "      <td>200000000</td>\n",
       "      <td>2068178225</td>\n",
       "      <td>Star Wars: The Force Awakens</td>\n",
       "      <td>Harrison Ford|Mark Hamill|Carrie Fisher|Adam D...</td>\n",
       "      <td>http://www.starwars.com/films/star-wars-episod...</td>\n",
       "      <td>J.J. Abrams</td>\n",
       "      <td>Every generation has a story.</td>\n",
       "      <td>...</td>\n",
       "      <td>Thirty years after defeating the Galactic Empi...</td>\n",
       "      <td>136</td>\n",
       "      <td>Action|Adventure|Science Fiction|Fantasy</td>\n",
       "      <td>Lucasfilm|Truenorth Productions|Bad Robot</td>\n",
       "      <td>12/15/15</td>\n",
       "      <td>5292</td>\n",
       "      <td>7.5</td>\n",
       "      <td>2015</td>\n",
       "      <td>1.839999e+08</td>\n",
       "      <td>1.902723e+09</td>\n",
       "    </tr>\n",
       "    <tr>\n",
       "      <th>4</th>\n",
       "      <td>168259</td>\n",
       "      <td>tt2820852</td>\n",
       "      <td>9.335014</td>\n",
       "      <td>190000000</td>\n",
       "      <td>1506249360</td>\n",
       "      <td>Furious 7</td>\n",
       "      <td>Vin Diesel|Paul Walker|Jason Statham|Michelle ...</td>\n",
       "      <td>http://www.furious7.com/</td>\n",
       "      <td>James Wan</td>\n",
       "      <td>Vengeance Hits Home</td>\n",
       "      <td>...</td>\n",
       "      <td>Deckard Shaw seeks revenge against Dominic Tor...</td>\n",
       "      <td>137</td>\n",
       "      <td>Action|Crime|Thriller</td>\n",
       "      <td>Universal Pictures|Original Film|Media Rights ...</td>\n",
       "      <td>4/1/15</td>\n",
       "      <td>2947</td>\n",
       "      <td>7.3</td>\n",
       "      <td>2015</td>\n",
       "      <td>1.747999e+08</td>\n",
       "      <td>1.385749e+09</td>\n",
       "    </tr>\n",
       "  </tbody>\n",
       "</table>\n",
       "<p>5 rows × 21 columns</p>\n",
       "</div>"
      ],
      "text/plain": [
       "       id    imdb_id  popularity     budget     revenue  \\\n",
       "0  135397  tt0369610   32.985763  150000000  1513528810   \n",
       "1   76341  tt1392190   28.419936  150000000   378436354   \n",
       "2  262500  tt2908446   13.112507  110000000   295238201   \n",
       "3  140607  tt2488496   11.173104  200000000  2068178225   \n",
       "4  168259  tt2820852    9.335014  190000000  1506249360   \n",
       "\n",
       "                 original_title  \\\n",
       "0                Jurassic World   \n",
       "1            Mad Max: Fury Road   \n",
       "2                     Insurgent   \n",
       "3  Star Wars: The Force Awakens   \n",
       "4                     Furious 7   \n",
       "\n",
       "                                                cast  \\\n",
       "0  Chris Pratt|Bryce Dallas Howard|Irrfan Khan|Vi...   \n",
       "1  Tom Hardy|Charlize Theron|Hugh Keays-Byrne|Nic...   \n",
       "2  Shailene Woodley|Theo James|Kate Winslet|Ansel...   \n",
       "3  Harrison Ford|Mark Hamill|Carrie Fisher|Adam D...   \n",
       "4  Vin Diesel|Paul Walker|Jason Statham|Michelle ...   \n",
       "\n",
       "                                            homepage          director  \\\n",
       "0                      http://www.jurassicworld.com/   Colin Trevorrow   \n",
       "1                        http://www.madmaxmovie.com/     George Miller   \n",
       "2     http://www.thedivergentseries.movie/#insurgent  Robert Schwentke   \n",
       "3  http://www.starwars.com/films/star-wars-episod...       J.J. Abrams   \n",
       "4                           http://www.furious7.com/         James Wan   \n",
       "\n",
       "                         tagline      ...       \\\n",
       "0              The park is open.      ...        \n",
       "1             What a Lovely Day.      ...        \n",
       "2     One Choice Can Destroy You      ...        \n",
       "3  Every generation has a story.      ...        \n",
       "4            Vengeance Hits Home      ...        \n",
       "\n",
       "                                            overview runtime  \\\n",
       "0  Twenty-two years after the events of Jurassic ...     124   \n",
       "1  An apocalyptic story set in the furthest reach...     120   \n",
       "2  Beatrice Prior must confront her inner demons ...     119   \n",
       "3  Thirty years after defeating the Galactic Empi...     136   \n",
       "4  Deckard Shaw seeks revenge against Dominic Tor...     137   \n",
       "\n",
       "                                      genres  \\\n",
       "0  Action|Adventure|Science Fiction|Thriller   \n",
       "1  Action|Adventure|Science Fiction|Thriller   \n",
       "2         Adventure|Science Fiction|Thriller   \n",
       "3   Action|Adventure|Science Fiction|Fantasy   \n",
       "4                      Action|Crime|Thriller   \n",
       "\n",
       "                                production_companies release_date vote_count  \\\n",
       "0  Universal Studios|Amblin Entertainment|Legenda...       6/9/15       5562   \n",
       "1  Village Roadshow Pictures|Kennedy Miller Produ...      5/13/15       6185   \n",
       "2  Summit Entertainment|Mandeville Films|Red Wago...      3/18/15       2480   \n",
       "3          Lucasfilm|Truenorth Productions|Bad Robot     12/15/15       5292   \n",
       "4  Universal Pictures|Original Film|Media Rights ...       4/1/15       2947   \n",
       "\n",
       "   vote_average  release_year    budget_adj   revenue_adj  \n",
       "0           6.5          2015  1.379999e+08  1.392446e+09  \n",
       "1           7.1          2015  1.379999e+08  3.481613e+08  \n",
       "2           6.3          2015  1.012000e+08  2.716190e+08  \n",
       "3           7.5          2015  1.839999e+08  1.902723e+09  \n",
       "4           7.3          2015  1.747999e+08  1.385749e+09  \n",
       "\n",
       "[5 rows x 21 columns]"
      ]
     },
     "execution_count": 2,
     "metadata": {},
     "output_type": "execute_result"
    }
   ],
   "source": [
    "# Load your data and print out a few lines. Perform operations to inspect data\n",
    "#   types and look for instances of missing or possibly errant data.\n",
    "df = pd.read_csv('tmdb-movies.csv')\n",
    "df.head()"
   ]
  },
  {
   "cell_type": "code",
   "execution_count": 3,
   "metadata": {
    "scrolled": false
   },
   "outputs": [
    {
     "data": {
      "text/plain": [
       "id                         0\n",
       "imdb_id                   10\n",
       "popularity                 0\n",
       "budget                     0\n",
       "revenue                    0\n",
       "original_title             0\n",
       "cast                      76\n",
       "homepage                7930\n",
       "director                  44\n",
       "tagline                 2824\n",
       "keywords                1493\n",
       "overview                   4\n",
       "runtime                    0\n",
       "genres                    23\n",
       "production_companies    1030\n",
       "release_date               0\n",
       "vote_count                 0\n",
       "vote_average               0\n",
       "release_year               0\n",
       "budget_adj                 0\n",
       "revenue_adj                0\n",
       "dtype: int64"
      ]
     },
     "execution_count": 3,
     "metadata": {},
     "output_type": "execute_result"
    }
   ],
   "source": [
    "#checking up null values\n",
    "df.isnull().sum()"
   ]
  },
  {
   "cell_type": "code",
   "execution_count": 4,
   "metadata": {
    "scrolled": false
   },
   "outputs": [
    {
     "name": "stdout",
     "output_type": "stream",
     "text": [
      "<class 'pandas.core.frame.DataFrame'>\n",
      "RangeIndex: 10866 entries, 0 to 10865\n",
      "Data columns (total 21 columns):\n",
      "id                      10866 non-null int64\n",
      "imdb_id                 10856 non-null object\n",
      "popularity              10866 non-null float64\n",
      "budget                  10866 non-null int64\n",
      "revenue                 10866 non-null int64\n",
      "original_title          10866 non-null object\n",
      "cast                    10790 non-null object\n",
      "homepage                2936 non-null object\n",
      "director                10822 non-null object\n",
      "tagline                 8042 non-null object\n",
      "keywords                9373 non-null object\n",
      "overview                10862 non-null object\n",
      "runtime                 10866 non-null int64\n",
      "genres                  10843 non-null object\n",
      "production_companies    9836 non-null object\n",
      "release_date            10866 non-null object\n",
      "vote_count              10866 non-null int64\n",
      "vote_average            10866 non-null float64\n",
      "release_year            10866 non-null int64\n",
      "budget_adj              10866 non-null float64\n",
      "revenue_adj             10866 non-null float64\n",
      "dtypes: float64(4), int64(6), object(11)\n",
      "memory usage: 1.7+ MB\n"
     ]
    }
   ],
   "source": [
    "# checking up types of columns\n",
    "df.info()"
   ]
  },
  {
   "cell_type": "code",
   "execution_count": 5,
   "metadata": {},
   "outputs": [
    {
     "data": {
      "text/plain": [
       "1"
      ]
     },
     "execution_count": 5,
     "metadata": {},
     "output_type": "execute_result"
    }
   ],
   "source": [
    "# checking up duplication records\n",
    "df.duplicated().sum()"
   ]
  },
  {
   "cell_type": "code",
   "execution_count": 6,
   "metadata": {
    "scrolled": true
   },
   "outputs": [
    {
     "data": {
      "text/html": [
       "<div>\n",
       "<style scoped>\n",
       "    .dataframe tbody tr th:only-of-type {\n",
       "        vertical-align: middle;\n",
       "    }\n",
       "\n",
       "    .dataframe tbody tr th {\n",
       "        vertical-align: top;\n",
       "    }\n",
       "\n",
       "    .dataframe thead th {\n",
       "        text-align: right;\n",
       "    }\n",
       "</style>\n",
       "<table border=\"1\" class=\"dataframe\">\n",
       "  <thead>\n",
       "    <tr style=\"text-align: right;\">\n",
       "      <th></th>\n",
       "      <th>id</th>\n",
       "      <th>popularity</th>\n",
       "      <th>budget</th>\n",
       "      <th>revenue</th>\n",
       "      <th>runtime</th>\n",
       "      <th>vote_count</th>\n",
       "      <th>vote_average</th>\n",
       "      <th>release_year</th>\n",
       "      <th>budget_adj</th>\n",
       "      <th>revenue_adj</th>\n",
       "    </tr>\n",
       "  </thead>\n",
       "  <tbody>\n",
       "    <tr>\n",
       "      <th>count</th>\n",
       "      <td>10866.000000</td>\n",
       "      <td>10866.000000</td>\n",
       "      <td>1.086600e+04</td>\n",
       "      <td>1.086600e+04</td>\n",
       "      <td>10866.000000</td>\n",
       "      <td>10866.000000</td>\n",
       "      <td>10866.000000</td>\n",
       "      <td>10866.000000</td>\n",
       "      <td>1.086600e+04</td>\n",
       "      <td>1.086600e+04</td>\n",
       "    </tr>\n",
       "    <tr>\n",
       "      <th>mean</th>\n",
       "      <td>66064.177434</td>\n",
       "      <td>0.646441</td>\n",
       "      <td>1.462570e+07</td>\n",
       "      <td>3.982332e+07</td>\n",
       "      <td>102.070863</td>\n",
       "      <td>217.389748</td>\n",
       "      <td>5.974922</td>\n",
       "      <td>2001.322658</td>\n",
       "      <td>1.755104e+07</td>\n",
       "      <td>5.136436e+07</td>\n",
       "    </tr>\n",
       "    <tr>\n",
       "      <th>std</th>\n",
       "      <td>92130.136561</td>\n",
       "      <td>1.000185</td>\n",
       "      <td>3.091321e+07</td>\n",
       "      <td>1.170035e+08</td>\n",
       "      <td>31.381405</td>\n",
       "      <td>575.619058</td>\n",
       "      <td>0.935142</td>\n",
       "      <td>12.812941</td>\n",
       "      <td>3.430616e+07</td>\n",
       "      <td>1.446325e+08</td>\n",
       "    </tr>\n",
       "    <tr>\n",
       "      <th>min</th>\n",
       "      <td>5.000000</td>\n",
       "      <td>0.000065</td>\n",
       "      <td>0.000000e+00</td>\n",
       "      <td>0.000000e+00</td>\n",
       "      <td>0.000000</td>\n",
       "      <td>10.000000</td>\n",
       "      <td>1.500000</td>\n",
       "      <td>1960.000000</td>\n",
       "      <td>0.000000e+00</td>\n",
       "      <td>0.000000e+00</td>\n",
       "    </tr>\n",
       "    <tr>\n",
       "      <th>25%</th>\n",
       "      <td>10596.250000</td>\n",
       "      <td>0.207583</td>\n",
       "      <td>0.000000e+00</td>\n",
       "      <td>0.000000e+00</td>\n",
       "      <td>90.000000</td>\n",
       "      <td>17.000000</td>\n",
       "      <td>5.400000</td>\n",
       "      <td>1995.000000</td>\n",
       "      <td>0.000000e+00</td>\n",
       "      <td>0.000000e+00</td>\n",
       "    </tr>\n",
       "    <tr>\n",
       "      <th>50%</th>\n",
       "      <td>20669.000000</td>\n",
       "      <td>0.383856</td>\n",
       "      <td>0.000000e+00</td>\n",
       "      <td>0.000000e+00</td>\n",
       "      <td>99.000000</td>\n",
       "      <td>38.000000</td>\n",
       "      <td>6.000000</td>\n",
       "      <td>2006.000000</td>\n",
       "      <td>0.000000e+00</td>\n",
       "      <td>0.000000e+00</td>\n",
       "    </tr>\n",
       "    <tr>\n",
       "      <th>75%</th>\n",
       "      <td>75610.000000</td>\n",
       "      <td>0.713817</td>\n",
       "      <td>1.500000e+07</td>\n",
       "      <td>2.400000e+07</td>\n",
       "      <td>111.000000</td>\n",
       "      <td>145.750000</td>\n",
       "      <td>6.600000</td>\n",
       "      <td>2011.000000</td>\n",
       "      <td>2.085325e+07</td>\n",
       "      <td>3.369710e+07</td>\n",
       "    </tr>\n",
       "    <tr>\n",
       "      <th>max</th>\n",
       "      <td>417859.000000</td>\n",
       "      <td>32.985763</td>\n",
       "      <td>4.250000e+08</td>\n",
       "      <td>2.781506e+09</td>\n",
       "      <td>900.000000</td>\n",
       "      <td>9767.000000</td>\n",
       "      <td>9.200000</td>\n",
       "      <td>2015.000000</td>\n",
       "      <td>4.250000e+08</td>\n",
       "      <td>2.827124e+09</td>\n",
       "    </tr>\n",
       "  </tbody>\n",
       "</table>\n",
       "</div>"
      ],
      "text/plain": [
       "                  id    popularity        budget       revenue       runtime  \\\n",
       "count   10866.000000  10866.000000  1.086600e+04  1.086600e+04  10866.000000   \n",
       "mean    66064.177434      0.646441  1.462570e+07  3.982332e+07    102.070863   \n",
       "std     92130.136561      1.000185  3.091321e+07  1.170035e+08     31.381405   \n",
       "min         5.000000      0.000065  0.000000e+00  0.000000e+00      0.000000   \n",
       "25%     10596.250000      0.207583  0.000000e+00  0.000000e+00     90.000000   \n",
       "50%     20669.000000      0.383856  0.000000e+00  0.000000e+00     99.000000   \n",
       "75%     75610.000000      0.713817  1.500000e+07  2.400000e+07    111.000000   \n",
       "max    417859.000000     32.985763  4.250000e+08  2.781506e+09    900.000000   \n",
       "\n",
       "         vote_count  vote_average  release_year    budget_adj   revenue_adj  \n",
       "count  10866.000000  10866.000000  10866.000000  1.086600e+04  1.086600e+04  \n",
       "mean     217.389748      5.974922   2001.322658  1.755104e+07  5.136436e+07  \n",
       "std      575.619058      0.935142     12.812941  3.430616e+07  1.446325e+08  \n",
       "min       10.000000      1.500000   1960.000000  0.000000e+00  0.000000e+00  \n",
       "25%       17.000000      5.400000   1995.000000  0.000000e+00  0.000000e+00  \n",
       "50%       38.000000      6.000000   2006.000000  0.000000e+00  0.000000e+00  \n",
       "75%      145.750000      6.600000   2011.000000  2.085325e+07  3.369710e+07  \n",
       "max     9767.000000      9.200000   2015.000000  4.250000e+08  2.827124e+09  "
      ]
     },
     "execution_count": 6,
     "metadata": {},
     "output_type": "execute_result"
    }
   ],
   "source": [
    "# checking up columns values\n",
    "df.describe()"
   ]
  },
  {
   "cell_type": "markdown",
   "metadata": {},
   "source": [
    "\n",
    "<a id='cleaning'></a>\n",
    "### Correcting & Cleaning\n",
    "The data set needs to correct types of attributes, drop duplication records/unwanted columns and then create 4 data frams `df_movies`, `df_directors`, `df_casts` & `df_genres`."
   ]
  },
  {
   "cell_type": "code",
   "execution_count": 7,
   "metadata": {},
   "outputs": [],
   "source": [
    "# correction types of attributes\n",
    "df['release_date'] = pd.to_datetime(df['release_date'])\n",
    "df['budget'] = df['budget'].astype(int)\n",
    "df['revenue'] = df['revenue'].astype(int)\n",
    "df['popularity'] = df['popularity'].astype(float)\n",
    "df['vote_count'] = df['vote_count'].astype(int)\n",
    "df['vote_average'] = df['vote_average'].astype(float)\n"
   ]
  },
  {
   "cell_type": "code",
   "execution_count": 8,
   "metadata": {},
   "outputs": [
    {
     "data": {
      "text/plain": [
       "count                   10866\n",
       "unique                   5909\n",
       "top       2009-01-01 00:00:00\n",
       "freq                       28\n",
       "first     1969-01-01 00:00:00\n",
       "last      2068-12-22 00:00:00\n",
       "Name: release_date, dtype: object"
      ]
     },
     "execution_count": 8,
     "metadata": {},
     "output_type": "execute_result"
    }
   ],
   "source": [
    "# checking up date value\n",
    "df.release_date.describe()"
   ]
  },
  {
   "cell_type": "code",
   "execution_count": 9,
   "metadata": {},
   "outputs": [
    {
     "data": {
      "text/plain": [
       "count                   10866\n",
       "unique                   5909\n",
       "top       2009-01-01 00:00:00\n",
       "freq                       28\n",
       "first     1960-01-01 00:00:00\n",
       "last      2015-12-31 00:00:00\n",
       "Name: release_date, dtype: object"
      ]
     },
     "execution_count": 9,
     "metadata": {},
     "output_type": "execute_result"
    }
   ],
   "source": [
    "# correctiong release date in future\n",
    "df['year'] = df['release_year']\n",
    "df['month'] = df['release_date'].dt.month\n",
    "df['day'] = df['release_date'].dt.day\n",
    "\n",
    "df['release_date'] = pd.to_datetime(df[['year','month','day']])\n",
    "df.release_date.describe()"
   ]
  },
  {
   "cell_type": "code",
   "execution_count": 10,
   "metadata": {},
   "outputs": [],
   "source": [
    "df.drop_duplicates(inplace=True)"
   ]
  },
  {
   "cell_type": "code",
   "execution_count": 11,
   "metadata": {},
   "outputs": [
    {
     "data": {
      "text/html": [
       "<div>\n",
       "<style scoped>\n",
       "    .dataframe tbody tr th:only-of-type {\n",
       "        vertical-align: middle;\n",
       "    }\n",
       "\n",
       "    .dataframe tbody tr th {\n",
       "        vertical-align: top;\n",
       "    }\n",
       "\n",
       "    .dataframe thead th {\n",
       "        text-align: right;\n",
       "    }\n",
       "</style>\n",
       "<table border=\"1\" class=\"dataframe\">\n",
       "  <thead>\n",
       "    <tr style=\"text-align: right;\">\n",
       "      <th></th>\n",
       "      <th>id</th>\n",
       "      <th>imdb_id</th>\n",
       "      <th>popularity</th>\n",
       "      <th>budget</th>\n",
       "      <th>revenue</th>\n",
       "      <th>original_title</th>\n",
       "      <th>cast</th>\n",
       "      <th>director</th>\n",
       "      <th>overview</th>\n",
       "      <th>runtime</th>\n",
       "      <th>genres</th>\n",
       "      <th>production_companies</th>\n",
       "      <th>release_date</th>\n",
       "      <th>vote_count</th>\n",
       "      <th>vote_average</th>\n",
       "      <th>release_year</th>\n",
       "    </tr>\n",
       "  </thead>\n",
       "  <tbody>\n",
       "    <tr>\n",
       "      <th>0</th>\n",
       "      <td>135397</td>\n",
       "      <td>tt0369610</td>\n",
       "      <td>32.985763</td>\n",
       "      <td>150000000</td>\n",
       "      <td>1513528810</td>\n",
       "      <td>Jurassic World</td>\n",
       "      <td>Chris Pratt|Bryce Dallas Howard|Irrfan Khan|Vi...</td>\n",
       "      <td>Colin Trevorrow</td>\n",
       "      <td>Twenty-two years after the events of Jurassic ...</td>\n",
       "      <td>124</td>\n",
       "      <td>Action|Adventure|Science Fiction|Thriller</td>\n",
       "      <td>Universal Studios|Amblin Entertainment|Legenda...</td>\n",
       "      <td>2015-06-09</td>\n",
       "      <td>5562</td>\n",
       "      <td>6.5</td>\n",
       "      <td>2015</td>\n",
       "    </tr>\n",
       "    <tr>\n",
       "      <th>1</th>\n",
       "      <td>76341</td>\n",
       "      <td>tt1392190</td>\n",
       "      <td>28.419936</td>\n",
       "      <td>150000000</td>\n",
       "      <td>378436354</td>\n",
       "      <td>Mad Max: Fury Road</td>\n",
       "      <td>Tom Hardy|Charlize Theron|Hugh Keays-Byrne|Nic...</td>\n",
       "      <td>George Miller</td>\n",
       "      <td>An apocalyptic story set in the furthest reach...</td>\n",
       "      <td>120</td>\n",
       "      <td>Action|Adventure|Science Fiction|Thriller</td>\n",
       "      <td>Village Roadshow Pictures|Kennedy Miller Produ...</td>\n",
       "      <td>2015-05-13</td>\n",
       "      <td>6185</td>\n",
       "      <td>7.1</td>\n",
       "      <td>2015</td>\n",
       "    </tr>\n",
       "    <tr>\n",
       "      <th>2</th>\n",
       "      <td>262500</td>\n",
       "      <td>tt2908446</td>\n",
       "      <td>13.112507</td>\n",
       "      <td>110000000</td>\n",
       "      <td>295238201</td>\n",
       "      <td>Insurgent</td>\n",
       "      <td>Shailene Woodley|Theo James|Kate Winslet|Ansel...</td>\n",
       "      <td>Robert Schwentke</td>\n",
       "      <td>Beatrice Prior must confront her inner demons ...</td>\n",
       "      <td>119</td>\n",
       "      <td>Adventure|Science Fiction|Thriller</td>\n",
       "      <td>Summit Entertainment|Mandeville Films|Red Wago...</td>\n",
       "      <td>2015-03-18</td>\n",
       "      <td>2480</td>\n",
       "      <td>6.3</td>\n",
       "      <td>2015</td>\n",
       "    </tr>\n",
       "    <tr>\n",
       "      <th>3</th>\n",
       "      <td>140607</td>\n",
       "      <td>tt2488496</td>\n",
       "      <td>11.173104</td>\n",
       "      <td>200000000</td>\n",
       "      <td>2068178225</td>\n",
       "      <td>Star Wars: The Force Awakens</td>\n",
       "      <td>Harrison Ford|Mark Hamill|Carrie Fisher|Adam D...</td>\n",
       "      <td>J.J. Abrams</td>\n",
       "      <td>Thirty years after defeating the Galactic Empi...</td>\n",
       "      <td>136</td>\n",
       "      <td>Action|Adventure|Science Fiction|Fantasy</td>\n",
       "      <td>Lucasfilm|Truenorth Productions|Bad Robot</td>\n",
       "      <td>2015-12-15</td>\n",
       "      <td>5292</td>\n",
       "      <td>7.5</td>\n",
       "      <td>2015</td>\n",
       "    </tr>\n",
       "    <tr>\n",
       "      <th>4</th>\n",
       "      <td>168259</td>\n",
       "      <td>tt2820852</td>\n",
       "      <td>9.335014</td>\n",
       "      <td>190000000</td>\n",
       "      <td>1506249360</td>\n",
       "      <td>Furious 7</td>\n",
       "      <td>Vin Diesel|Paul Walker|Jason Statham|Michelle ...</td>\n",
       "      <td>James Wan</td>\n",
       "      <td>Deckard Shaw seeks revenge against Dominic Tor...</td>\n",
       "      <td>137</td>\n",
       "      <td>Action|Crime|Thriller</td>\n",
       "      <td>Universal Pictures|Original Film|Media Rights ...</td>\n",
       "      <td>2015-04-01</td>\n",
       "      <td>2947</td>\n",
       "      <td>7.3</td>\n",
       "      <td>2015</td>\n",
       "    </tr>\n",
       "  </tbody>\n",
       "</table>\n",
       "</div>"
      ],
      "text/plain": [
       "       id    imdb_id  popularity     budget     revenue  \\\n",
       "0  135397  tt0369610   32.985763  150000000  1513528810   \n",
       "1   76341  tt1392190   28.419936  150000000   378436354   \n",
       "2  262500  tt2908446   13.112507  110000000   295238201   \n",
       "3  140607  tt2488496   11.173104  200000000  2068178225   \n",
       "4  168259  tt2820852    9.335014  190000000  1506249360   \n",
       "\n",
       "                 original_title  \\\n",
       "0                Jurassic World   \n",
       "1            Mad Max: Fury Road   \n",
       "2                     Insurgent   \n",
       "3  Star Wars: The Force Awakens   \n",
       "4                     Furious 7   \n",
       "\n",
       "                                                cast          director  \\\n",
       "0  Chris Pratt|Bryce Dallas Howard|Irrfan Khan|Vi...   Colin Trevorrow   \n",
       "1  Tom Hardy|Charlize Theron|Hugh Keays-Byrne|Nic...     George Miller   \n",
       "2  Shailene Woodley|Theo James|Kate Winslet|Ansel...  Robert Schwentke   \n",
       "3  Harrison Ford|Mark Hamill|Carrie Fisher|Adam D...       J.J. Abrams   \n",
       "4  Vin Diesel|Paul Walker|Jason Statham|Michelle ...         James Wan   \n",
       "\n",
       "                                            overview  runtime  \\\n",
       "0  Twenty-two years after the events of Jurassic ...      124   \n",
       "1  An apocalyptic story set in the furthest reach...      120   \n",
       "2  Beatrice Prior must confront her inner demons ...      119   \n",
       "3  Thirty years after defeating the Galactic Empi...      136   \n",
       "4  Deckard Shaw seeks revenge against Dominic Tor...      137   \n",
       "\n",
       "                                      genres  \\\n",
       "0  Action|Adventure|Science Fiction|Thriller   \n",
       "1  Action|Adventure|Science Fiction|Thriller   \n",
       "2         Adventure|Science Fiction|Thriller   \n",
       "3   Action|Adventure|Science Fiction|Fantasy   \n",
       "4                      Action|Crime|Thriller   \n",
       "\n",
       "                                production_companies release_date  vote_count  \\\n",
       "0  Universal Studios|Amblin Entertainment|Legenda...   2015-06-09        5562   \n",
       "1  Village Roadshow Pictures|Kennedy Miller Produ...   2015-05-13        6185   \n",
       "2  Summit Entertainment|Mandeville Films|Red Wago...   2015-03-18        2480   \n",
       "3          Lucasfilm|Truenorth Productions|Bad Robot   2015-12-15        5292   \n",
       "4  Universal Pictures|Original Film|Media Rights ...   2015-04-01        2947   \n",
       "\n",
       "   vote_average  release_year  \n",
       "0           6.5          2015  \n",
       "1           7.1          2015  \n",
       "2           6.3          2015  \n",
       "3           7.5          2015  \n",
       "4           7.3          2015  "
      ]
     },
     "execution_count": 11,
     "metadata": {},
     "output_type": "execute_result"
    }
   ],
   "source": [
    "df.drop(['homepage','tagline','keywords', 'year', 'month', 'day', 'budget_adj', 'revenue_adj'], axis=1, inplace=True)\n",
    "df.head()"
   ]
  },
  {
   "cell_type": "code",
   "execution_count": 12,
   "metadata": {},
   "outputs": [],
   "source": [
    "# copying into separate dataframes.\n",
    "df_movies = df.copy()\n",
    "df_directors = df.filter(items=['id','director']).dropna()\n",
    "df_casts = df.filter(items=['id','cast']).dropna()\n",
    "df_genres = df.filter(items=['id','genres']).dropna()\n",
    "df_companies = df.filter(items=['id','production_companies']).dropna()"
   ]
  },
  {
   "cell_type": "code",
   "execution_count": 13,
   "metadata": {},
   "outputs": [
    {
     "data": {
      "text/html": [
       "<div>\n",
       "<style scoped>\n",
       "    .dataframe tbody tr th:only-of-type {\n",
       "        vertical-align: middle;\n",
       "    }\n",
       "\n",
       "    .dataframe tbody tr th {\n",
       "        vertical-align: top;\n",
       "    }\n",
       "\n",
       "    .dataframe thead th {\n",
       "        text-align: right;\n",
       "    }\n",
       "</style>\n",
       "<table border=\"1\" class=\"dataframe\">\n",
       "  <thead>\n",
       "    <tr style=\"text-align: right;\">\n",
       "      <th></th>\n",
       "      <th>id</th>\n",
       "      <th>popularity</th>\n",
       "      <th>budget</th>\n",
       "      <th>revenue</th>\n",
       "      <th>runtime</th>\n",
       "      <th>vote_count</th>\n",
       "      <th>vote_average</th>\n",
       "      <th>release_year</th>\n",
       "    </tr>\n",
       "  </thead>\n",
       "  <tbody>\n",
       "    <tr>\n",
       "      <th>count</th>\n",
       "      <td>10865.000000</td>\n",
       "      <td>10865.000000</td>\n",
       "      <td>1.086500e+04</td>\n",
       "      <td>1.086500e+04</td>\n",
       "      <td>10865.000000</td>\n",
       "      <td>10865.000000</td>\n",
       "      <td>10865.000000</td>\n",
       "      <td>10865.000000</td>\n",
       "    </tr>\n",
       "    <tr>\n",
       "      <th>mean</th>\n",
       "      <td>66066.374413</td>\n",
       "      <td>0.646446</td>\n",
       "      <td>1.462429e+07</td>\n",
       "      <td>3.982690e+07</td>\n",
       "      <td>102.071790</td>\n",
       "      <td>217.399632</td>\n",
       "      <td>5.975012</td>\n",
       "      <td>2001.321859</td>\n",
       "    </tr>\n",
       "    <tr>\n",
       "      <th>std</th>\n",
       "      <td>92134.091971</td>\n",
       "      <td>1.000231</td>\n",
       "      <td>3.091428e+07</td>\n",
       "      <td>1.170083e+08</td>\n",
       "      <td>31.382701</td>\n",
       "      <td>575.644627</td>\n",
       "      <td>0.935138</td>\n",
       "      <td>12.813260</td>\n",
       "    </tr>\n",
       "    <tr>\n",
       "      <th>min</th>\n",
       "      <td>5.000000</td>\n",
       "      <td>0.000065</td>\n",
       "      <td>0.000000e+00</td>\n",
       "      <td>0.000000e+00</td>\n",
       "      <td>0.000000</td>\n",
       "      <td>10.000000</td>\n",
       "      <td>1.500000</td>\n",
       "      <td>1960.000000</td>\n",
       "    </tr>\n",
       "    <tr>\n",
       "      <th>25%</th>\n",
       "      <td>10596.000000</td>\n",
       "      <td>0.207575</td>\n",
       "      <td>0.000000e+00</td>\n",
       "      <td>0.000000e+00</td>\n",
       "      <td>90.000000</td>\n",
       "      <td>17.000000</td>\n",
       "      <td>5.400000</td>\n",
       "      <td>1995.000000</td>\n",
       "    </tr>\n",
       "    <tr>\n",
       "      <th>50%</th>\n",
       "      <td>20662.000000</td>\n",
       "      <td>0.383831</td>\n",
       "      <td>0.000000e+00</td>\n",
       "      <td>0.000000e+00</td>\n",
       "      <td>99.000000</td>\n",
       "      <td>38.000000</td>\n",
       "      <td>6.000000</td>\n",
       "      <td>2006.000000</td>\n",
       "    </tr>\n",
       "    <tr>\n",
       "      <th>75%</th>\n",
       "      <td>75612.000000</td>\n",
       "      <td>0.713857</td>\n",
       "      <td>1.500000e+07</td>\n",
       "      <td>2.400000e+07</td>\n",
       "      <td>111.000000</td>\n",
       "      <td>146.000000</td>\n",
       "      <td>6.600000</td>\n",
       "      <td>2011.000000</td>\n",
       "    </tr>\n",
       "    <tr>\n",
       "      <th>max</th>\n",
       "      <td>417859.000000</td>\n",
       "      <td>32.985763</td>\n",
       "      <td>4.250000e+08</td>\n",
       "      <td>2.781506e+09</td>\n",
       "      <td>900.000000</td>\n",
       "      <td>9767.000000</td>\n",
       "      <td>9.200000</td>\n",
       "      <td>2015.000000</td>\n",
       "    </tr>\n",
       "  </tbody>\n",
       "</table>\n",
       "</div>"
      ],
      "text/plain": [
       "                  id    popularity        budget       revenue       runtime  \\\n",
       "count   10865.000000  10865.000000  1.086500e+04  1.086500e+04  10865.000000   \n",
       "mean    66066.374413      0.646446  1.462429e+07  3.982690e+07    102.071790   \n",
       "std     92134.091971      1.000231  3.091428e+07  1.170083e+08     31.382701   \n",
       "min         5.000000      0.000065  0.000000e+00  0.000000e+00      0.000000   \n",
       "25%     10596.000000      0.207575  0.000000e+00  0.000000e+00     90.000000   \n",
       "50%     20662.000000      0.383831  0.000000e+00  0.000000e+00     99.000000   \n",
       "75%     75612.000000      0.713857  1.500000e+07  2.400000e+07    111.000000   \n",
       "max    417859.000000     32.985763  4.250000e+08  2.781506e+09    900.000000   \n",
       "\n",
       "         vote_count  vote_average  release_year  \n",
       "count  10865.000000  10865.000000  10865.000000  \n",
       "mean     217.399632      5.975012   2001.321859  \n",
       "std      575.644627      0.935138     12.813260  \n",
       "min       10.000000      1.500000   1960.000000  \n",
       "25%       17.000000      5.400000   1995.000000  \n",
       "50%       38.000000      6.000000   2006.000000  \n",
       "75%      146.000000      6.600000   2011.000000  \n",
       "max     9767.000000      9.200000   2015.000000  "
      ]
     },
     "execution_count": 13,
     "metadata": {},
     "output_type": "execute_result"
    }
   ],
   "source": [
    "#droping unwanted columns of df_movies\n",
    "df_movies.drop(['cast','director','genres','production_companies'], axis=1, inplace=True)\n",
    "df_movies.describe()"
   ]
  },
  {
   "cell_type": "markdown",
   "metadata": {},
   "source": [
    "> it is needed to create ne col for `net_profit` by subtracting `budget` from `revenue`."
   ]
  },
  {
   "cell_type": "code",
   "execution_count": 14,
   "metadata": {},
   "outputs": [],
   "source": [
    "#adding profit column\n",
    "df_movies['net_profit'] = df_movies.revenue - df_movies.budget"
   ]
  },
  {
   "cell_type": "markdown",
   "metadata": {},
   "source": [
    "> We need to exclude all non profitable movies, so that we be able to provide a perfect advice to investors in movies."
   ]
  },
  {
   "cell_type": "code",
   "execution_count": 15,
   "metadata": {},
   "outputs": [
    {
     "data": {
      "text/plain": [
       "(3854, 13)"
      ]
     },
     "execution_count": 15,
     "metadata": {},
     "output_type": "execute_result"
    }
   ],
   "source": [
    "#ignoreing all movies has no budget or revenue records\n",
    "df_movies = df_movies.query('budget > 0 and revenue > 0')\n",
    "df_movies.shape"
   ]
  },
  {
   "cell_type": "markdown",
   "metadata": {},
   "source": [
    "> `cast`, `director`, `genres` & `production_companies` are going to be cosidered the factors impact on the movies profit. while each factor \"column\" has a series of values separated with `|`. So, they need to be converted into rows (ONE row for each value)."
   ]
  },
  {
   "cell_type": "code",
   "execution_count": 16,
   "metadata": {},
   "outputs": [
    {
     "data": {
      "text/plain": [
       "(19195, 14)"
      ]
     },
     "execution_count": 16,
     "metadata": {},
     "output_type": "execute_result"
    }
   ],
   "source": [
    "# correcting by changing series value to rows\n",
    "df_casts['cast'] = df_casts.cast.str.split(pat='|')\n",
    "df_casts = df_casts.cast.apply(pd.Series)\\\n",
    "    .merge(df_casts, left_index = True, right_index = True)\\\n",
    "    .drop([\"cast\"], axis = 1)\\\n",
    "    .melt(id_vars = ['id'], value_name = \"cast\")\\\n",
    "    .drop(\"variable\", axis = 1)\\\n",
    "    .dropna()\\\n",
    "    .drop_duplicates()\n",
    "\n",
    "#merging cast with movies\n",
    "df_casts = df_casts.merge(df_movies, left_on='id', right_on='id')\n",
    "df_casts.shape"
   ]
  },
  {
   "cell_type": "code",
   "execution_count": 17,
   "metadata": {
    "scrolled": true
   },
   "outputs": [
    {
     "data": {
      "text/plain": [
       "(4164, 14)"
      ]
     },
     "execution_count": 17,
     "metadata": {},
     "output_type": "execute_result"
    }
   ],
   "source": [
    "#correcting by changing series value to rows\n",
    "df_directors['director'] = df_directors.director.str.split(pat='|')\n",
    "df_directors = df_directors.director.apply(pd.Series)\\\n",
    "    .merge(df_directors, left_index = True, right_index = True)\\\n",
    "    .drop([\"director\"], axis = 1)\\\n",
    "    .melt(id_vars = ['id'], value_name = \"director\")\\\n",
    "    .drop(\"variable\", axis = 1)\\\n",
    "    .dropna()\\\n",
    "    .drop_duplicates()\n",
    "\n",
    "#merging directors with movies\n",
    "df_directors = df_directors.merge(df_movies, left_on='id', right_on='id')\n",
    "df_directors.shape"
   ]
  },
  {
   "cell_type": "code",
   "execution_count": 18,
   "metadata": {},
   "outputs": [
    {
     "data": {
      "text/plain": [
       "(10303, 14)"
      ]
     },
     "execution_count": 18,
     "metadata": {},
     "output_type": "execute_result"
    }
   ],
   "source": [
    "#correcting by changing series value to rows\n",
    "df_genres['genres'] = df_genres.genres.str.split(pat='|')\n",
    "df_genres = df_genres.genres.apply(pd.Series)\\\n",
    "    .merge(df_genres, left_index = True, right_index = True)\\\n",
    "    .drop([\"genres\"], axis = 1)\\\n",
    "    .melt(id_vars = ['id'], value_name = \"genres\")\\\n",
    "    .drop(\"variable\", axis = 1)\\\n",
    "    .dropna()\\\n",
    "    .drop_duplicates()\n",
    "\n",
    "#merging genres with movies\n",
    "df_genres = df_genres.merge(df_movies, left_on='id', right_on='id')\n",
    "df_genres.shape"
   ]
  },
  {
   "cell_type": "code",
   "execution_count": 19,
   "metadata": {},
   "outputs": [
    {
     "data": {
      "text/plain": [
       "(10583, 14)"
      ]
     },
     "execution_count": 19,
     "metadata": {},
     "output_type": "execute_result"
    }
   ],
   "source": [
    "#correcting by changing series value to rows\n",
    "df_companies['production_companies'] = df_companies.production_companies.str.split(pat='|')\n",
    "df_companies = df_companies.production_companies.apply(pd.Series)\\\n",
    "    .merge(df_companies, left_index = True, right_index = True)\\\n",
    "    .drop([\"production_companies\"], axis = 1)\\\n",
    "    .melt(id_vars = ['id'], value_name = \"production_companies\")\\\n",
    "    .drop(\"variable\", axis = 1)\\\n",
    "    .dropna()\\\n",
    "    .drop_duplicates()\n",
    "\n",
    "#merging production companies with movies\n",
    "df_companies = df_companies.merge(df_movies, left_on='id', right_on='id')\n",
    "df_companies.shape"
   ]
  },
  {
   "cell_type": "markdown",
   "metadata": {},
   "source": [
    "> any factor `cast`, `director`, `genres` or `production_companies` participated in only one movie, it will be dropped because it cannot be considered as a significant factor."
   ]
  },
  {
   "cell_type": "code",
   "execution_count": 20,
   "metadata": {},
   "outputs": [
    {
     "data": {
      "text/plain": [
       "(15077, 14)"
      ]
     },
     "execution_count": 20,
     "metadata": {},
     "output_type": "execute_result"
    }
   ],
   "source": [
    "# dropping all cast participated in only ONE movie\n",
    "x = df_casts.cast.value_counts()\n",
    "y = df_casts.cast.isin(x.index[x>1])\n",
    "df_casts = df_casts[y]\n",
    "df_casts.shape\n"
   ]
  },
  {
   "cell_type": "code",
   "execution_count": 21,
   "metadata": {},
   "outputs": [
    {
     "data": {
      "text/plain": [
       "(3166, 14)"
      ]
     },
     "execution_count": 21,
     "metadata": {},
     "output_type": "execute_result"
    }
   ],
   "source": [
    "# dropping all directors participated in only ONE movie\n",
    "x = df_directors.director.value_counts()\n",
    "y = df_directors.director.isin(x.index[x>1])\n",
    "df_directors = df_directors[y]\n",
    "df_directors.shape\n"
   ]
  },
  {
   "cell_type": "code",
   "execution_count": 22,
   "metadata": {},
   "outputs": [
    {
     "data": {
      "text/plain": [
       "(10302, 14)"
      ]
     },
     "execution_count": 22,
     "metadata": {},
     "output_type": "execute_result"
    }
   ],
   "source": [
    "# dropping all directors participated in only ONE movie\n",
    "x = df_genres.genres.value_counts()\n",
    "y = df_genres.genres.isin(x.index[x>1])\n",
    "df_genres = df_genres[y]\n",
    "df_genres.shape\n"
   ]
  },
  {
   "cell_type": "code",
   "execution_count": 23,
   "metadata": {},
   "outputs": [
    {
     "data": {
      "text/plain": [
       "(8464, 14)"
      ]
     },
     "execution_count": 23,
     "metadata": {},
     "output_type": "execute_result"
    }
   ],
   "source": [
    "# dropping all production companies participated in only ONE movie\n",
    "x = df_companies.production_companies.value_counts()\n",
    "y = df_companies.production_companies.isin(x.index[x>1])\n",
    "df_companies = df_companies[y]\n",
    "df_companies.shape\n"
   ]
  },
  {
   "cell_type": "markdown",
   "metadata": {},
   "source": [
    "<a id='eda'></a>\n",
    "## Exploratory Data Analysis\n",
    "\n",
    "<ul>\n",
    "<li><a href=\"#exploring-movies\">Exploring Movies</a></li>\n",
    "<li><a href=\"#exploring-factors\">Exploring Factors</a></li>\n",
    "<li><a href=\"#exploring-factors-top10-movies\">Exploring Factors (Top10 Movies)</a></li>\n",
    "</ul>\n",
    "\n",
    "<a id='exploring-movies'></a>\n",
    "\n",
    "### Exploring Movies\n",
    ">Exploring movies in terms of (count vs years), (net profit vs years) & top 10 net profit of movies."
   ]
  },
  {
   "cell_type": "code",
   "execution_count": 24,
   "metadata": {},
   "outputs": [],
   "source": [
    "# fixing the top scale to be 10\n",
    "N = 10"
   ]
  },
  {
   "cell_type": "code",
   "execution_count": 25,
   "metadata": {},
   "outputs": [
    {
     "data": {
      "text/plain": [
       "Text(0.5,1,'counts of movies vs years')"
      ]
     },
     "execution_count": 25,
     "metadata": {},
     "output_type": "execute_result"
    },
    {
     "data": {
      "image/png": "[encoded data removed]",
      "text/plain": [
       "<matplotlib.figure.Figure at 0x7f2bf0ca67b8>"
      ]
     },
     "metadata": {
      "needs_background": "light"
     },
     "output_type": "display_data"
    }
   ],
   "source": [
    "# counts of movies vs years\n",
    "\n",
    "data = df_movies.groupby('release_year')[['release_year']].count()\n",
    "data['net_profit'] = df_movies.groupby('release_year')[['net_profit']].mean()\n",
    "data['avg'] = df_movies.groupby('release_year')['release_year'].count().mean()\n",
    "data.rename(columns={'release_year':'count'}, inplace=True)\n",
    "data.plot(y=['count', 'avg'])\n",
    "plt.title('counts of movies vs years')"
   ]
  },
  {
   "cell_type": "code",
   "execution_count": 26,
   "metadata": {
    "scrolled": false
   },
   "outputs": [
    {
     "data": {
      "text/plain": [
       "Text(0.5,1,'net profit average of movies vs years')"
      ]
     },
     "execution_count": 26,
     "metadata": {},
     "output_type": "execute_result"
    },
    {
     "data": {
      "image/png": "[encoded data removed]",
      "text/plain": [
       "<matplotlib.figure.Figure at 0x7f2bf0e466a0>"
      ]
     },
     "metadata": {
      "needs_background": "light"
     },
     "output_type": "display_data"
    }
   ],
   "source": [
    "# net profit of movies vs years\n",
    "\n",
    "data = df_movies.groupby('release_year')['net_profit'].mean()\n",
    "data = pd.DataFrame(data.values, index=data.index, columns=['net_profit'])\n",
    "data['avg'] = df_movies.groupby('release_year')['net_profit'].mean().mean()\n",
    "data.plot()\n",
    "plt.title('net profit average of movies vs years')"
   ]
  },
  {
   "cell_type": "code",
   "execution_count": 27,
   "metadata": {},
   "outputs": [
    {
     "data": {
      "text/plain": [
       "Text(0.5,1,'Top 10 of movies vs net profit')"
      ]
     },
     "execution_count": 27,
     "metadata": {},
     "output_type": "execute_result"
    },
    {
     "data": {
      "image/png": "[encoded data removed]",
      "text/plain": [
       "<matplotlib.figure.Figure at 0x7f2bf10dbb70>"
      ]
     },
     "metadata": {
      "needs_background": "light"
     },
     "output_type": "display_data"
    }
   ],
   "source": [
    "# the top 10 of movies vs net profit\n",
    "df_movies_top10 = df_movies.sort_values('net_profit', ascending=False).head(N)\n",
    "li = np.arange(1,len(df_movies_top10)+1)\n",
    "plt.barh(li, df_movies_top10.net_profit, tick_label=df_movies_top10.original_title)\n",
    "plt.gca().invert_yaxis()\n",
    "plt.title('Top {} of movies vs net profit'.format(N))\n"
   ]
  },
  {
   "cell_type": "markdown",
   "metadata": {},
   "source": [
    "<a id='exploring-factors'></a>\n",
    "\n",
    "\n",
    "### Exploring Factors \n",
    ">exploring top 10s of `cast`, `director`, `genres` or `production_companies` in terms of the profits of movies and did not participate in any non profitable movies."
   ]
  },
  {
   "cell_type": "code",
   "execution_count": 28,
   "metadata": {},
   "outputs": [],
   "source": [
    "# specifying cast who participated in a non profitable movie\n",
    "cast_always_profit = df_casts.query('net_profit > 0')\n",
    "df_casts['cast_always_profit'] = np.repeat(False, len(df_casts))\n",
    "df_casts.loc[df_casts.cast.isin(cast_always_profit.cast),'cast_always_profit'] = True"
   ]
  },
  {
   "cell_type": "code",
   "execution_count": 29,
   "metadata": {
    "scrolled": false
   },
   "outputs": [
    {
     "data": {
      "text/plain": [
       "Text(0.5,1,'Top 10 of cast in terms of the the profits of movies')"
      ]
     },
     "execution_count": 29,
     "metadata": {},
     "output_type": "execute_result"
    },
    {
     "data": {
      "image/png": "[encoded data removed]",
      "text/plain": [
       "<matplotlib.figure.Figure at 0x7f2bf1ccd198>"
      ]
     },
     "metadata": {
      "needs_background": "light"
     },
     "output_type": "display_data"
    }
   ],
   "source": [
    "# The top cast in terms of the the profits of movies they participated and did not participate in any non profitable movie.\n",
    "top10_casts = df_casts[df_casts['cast_always_profit'] == True].groupby('cast')['net_profit'].mean().sort_values(ascending=False).head(N)\n",
    "df_casts['top10_cast'] = np.repeat(False, len(df_casts))\n",
    "df_casts.loc[df_casts.cast.isin(top10_casts.index),'top10_cast'] = True\n",
    "li = np.arange(1,len(top10_casts)+1)\n",
    "\n",
    "plt.barh(li, top10_casts.values, tick_label=top10_casts.index)\n",
    "plt.axvline(x=df_casts.net_profit.mean(), color='C1')\n",
    "plt.gca().invert_yaxis()\n",
    "plt.title('Top {} of cast in terms of the the profits of movies'.format(N))\n"
   ]
  },
  {
   "cell_type": "code",
   "execution_count": 30,
   "metadata": {},
   "outputs": [],
   "source": [
    "# specifying director who participated in a non profitable movie\n",
    "director_always_profit = df_directors.query('net_profit > 0')\n",
    "df_directors['director_always_profit'] = np.repeat(False, len(df_directors))\n",
    "df_directors.loc[df_directors.director.isin(director_always_profit.director),'director_always_profit'] = True"
   ]
  },
  {
   "cell_type": "code",
   "execution_count": 31,
   "metadata": {},
   "outputs": [
    {
     "data": {
      "text/plain": [
       "Text(0.5,1,'Top 10 of directors in terms of the the profits of movies')"
      ]
     },
     "execution_count": 31,
     "metadata": {},
     "output_type": "execute_result"
    },
    {
     "data": {
      "image/png": "[encoded data removed]",
      "text/plain": [
       "<matplotlib.figure.Figure at 0x7f2bf0e354a8>"
      ]
     },
     "metadata": {
      "needs_background": "light"
     },
     "output_type": "display_data"
    }
   ],
   "source": [
    "# The top directors in terms of the the profits of movies they participated and did not participate in any non profitable movie.\n",
    "top10_directors = df_directors[df_directors['director_always_profit'] == True].groupby('director')['net_profit'].mean().sort_values(ascending=False).head(N)\n",
    "df_directors['top10_directors'] = np.repeat(False, len(df_directors))\n",
    "df_directors.loc[df_directors.director.isin(top10_directors.index),'top10_directors'] = True\n",
    "li = np.arange(1,len(top10_directors)+1)\n",
    "\n",
    "plt.barh(li, top10_directors.values, tick_label=top10_directors.index)\n",
    "plt.axvline(x=df_directors.net_profit.mean(), color='C1')\n",
    "plt.gca().invert_yaxis()\n",
    "plt.title('Top {} of directors in terms of the the profits of movies'.format(N))"
   ]
  },
  {
   "cell_type": "code",
   "execution_count": 32,
   "metadata": {
    "scrolled": true
   },
   "outputs": [
    {
     "data": {
      "text/plain": [
       "Text(0.5,1,'Top 10 of genres in terms of the the profits of movies')"
      ]
     },
     "execution_count": 32,
     "metadata": {},
     "output_type": "execute_result"
    },
    {
     "data": {
      "image/png": "[encoded data removed]",
      "text/plain": [
       "<matplotlib.figure.Figure at 0x7f2bf0f6a6a0>"
      ]
     },
     "metadata": {
      "needs_background": "light"
     },
     "output_type": "display_data"
    }
   ],
   "source": [
    "# The top genres in terms of the the profits of movies they participated and did not participate in any non profitable movie.\n",
    "top10_genres = df_genres.groupby('genres')['net_profit'].mean().sort_values(ascending=False).head(N)\n",
    "df_genres['top10_genres'] = np.repeat(False, len(df_genres))\n",
    "df_genres.loc[df_genres.genres.isin(top10_genres.index),'top10_genres'] = True\n",
    "li = np.arange(1,len(top10_genres)+1)\n",
    "\n",
    "plt.barh(li, top10_genres.values, tick_label=top10_genres.index)\n",
    "plt.axvline(x=df_genres.net_profit.mean(), color='C1')\n",
    "plt.gca().invert_yaxis()\n",
    "plt.title('Top {} of genres in terms of the the profits of movies'.format(N))"
   ]
  },
  {
   "cell_type": "code",
   "execution_count": 33,
   "metadata": {},
   "outputs": [],
   "source": [
    "# specifying production_companies who participated in a non profitable movie\n",
    "company_always_profit = df_companies.query('net_profit > 0')\n",
    "df_companies['company_always_profit'] = np.repeat(False, len(df_companies))\n",
    "df_companies.loc[df_companies.production_companies.isin(company_always_profit.production_companies),'company_always_profit'] = True"
   ]
  },
  {
   "cell_type": "code",
   "execution_count": 34,
   "metadata": {},
   "outputs": [
    {
     "data": {
      "text/plain": [
       "Text(0.5,1,'Top 10 of production companies in terms of the the profits of movies')"
      ]
     },
     "execution_count": 34,
     "metadata": {},
     "output_type": "execute_result"
    },
    {
     "data": {
      "image/png": "[encoded data removed]",
      "text/plain": [
       "<matplotlib.figure.Figure at 0x7f2bf1870400>"
      ]
     },
     "metadata": {
      "needs_background": "light"
     },
     "output_type": "display_data"
    }
   ],
   "source": [
    "# The top production companies in terms of the the profits of movies they participated and did not participate in any non profitable movie.\n",
    "top10_companies = df_companies[df_companies['company_always_profit'] == True].groupby('production_companies')['net_profit'].mean().sort_values(ascending=False).head(N)\n",
    "df_companies['top10_directors'] = np.repeat(False, len(df_companies))\n",
    "df_companies.loc[df_companies.production_companies.isin(top10_companies.index),'top10_companies'] = True\n",
    "li = np.arange(1,len(top10_companies)+1)\n",
    "\n",
    "plt.barh(li, top10_companies.values, tick_label=top10_companies.index)\n",
    "plt.axvline(x=df_companies.net_profit.mean(), color='C1')\n",
    "plt.gca().invert_yaxis()\n",
    "plt.title('Top {} of production companies in terms of the the profits of movies'.format(N))"
   ]
  },
  {
   "cell_type": "markdown",
   "metadata": {},
   "source": [
    "<a id='exploring-factors-top10-movies'></a>\n",
    "\n",
    "### Exploring Factors (Top10 Movies)\n",
    ">Exploring impact of the top 10 movies on the top 10s of `cast`, `director`, `genres` or `production companies`."
   ]
  },
  {
   "cell_type": "code",
   "execution_count": 35,
   "metadata": {
    "scrolled": false
   },
   "outputs": [
    {
     "data": {
      "text/plain": [
       "Text(0.5,1,'Top 10 of cast')"
      ]
     },
     "execution_count": 35,
     "metadata": {},
     "output_type": "execute_result"
    },
    {
     "data": {
      "image/png": "[encoded data removed]",
      "text/plain": [
       "<matplotlib.figure.Figure at 0x7f2bf173ecf8>"
      ]
     },
     "metadata": {
      "needs_background": "light"
     },
     "output_type": "display_data"
    }
   ],
   "source": [
    "# \n",
    "df_casts['top10_movies'] = np.repeat(False, len(df_casts))\n",
    "df_casts.loc[df_casts.id.isin(df_movies_top10.id),'top10_movies'] = True\n",
    "\n",
    "data = df_casts.query('top10_cast == True').groupby('cast')['net_profit'].mean().sort_values(ascending=False)\n",
    "data_ = df_casts.query('top10_cast == True and top10_movies == True')\n",
    "\n",
    "color = np.where(data.index.isin(data_.cast), 'C2', 'C0')\n",
    "li = np.arange(1,len(data)+1)\n",
    "x = plt.barh(li, data.values, tick_label=data.index, color=color)\n",
    "plt.axvline(x=df_casts.net_profit.mean(), color='C1')\n",
    "plt.gca().invert_yaxis()\n",
    "plt.title('Top {} of cast'.format(N))"
   ]
  },
  {
   "cell_type": "code",
   "execution_count": 36,
   "metadata": {
    "scrolled": false
   },
   "outputs": [
    {
     "data": {
      "text/plain": [
       "Text(0.5,1,'Top 10 of directors')"
      ]
     },
     "execution_count": 36,
     "metadata": {},
     "output_type": "execute_result"
    },
    {
     "data": {
      "image/png": "[encoded data removed]",
      "text/plain": [
       "<matplotlib.figure.Figure at 0x7f2bf1312b00>"
      ]
     },
     "metadata": {
      "needs_background": "light"
     },
     "output_type": "display_data"
    }
   ],
   "source": [
    "df_directors['top10_movies'] = np.repeat(False, len(df_directors))\n",
    "df_directors.loc[df_directors.id.isin(df_movies_top10.id),'top10_movies'] = True\n",
    "\n",
    "data = df_directors.query('top10_directors == True').groupby('director')['net_profit'].mean().sort_values(ascending=False)\n",
    "data_ = df_directors.query('top10_directors == True and top10_movies == True')\n",
    "\n",
    "color = np.where(data.index.isin(data_.director), 'C2', 'C0')\n",
    "li = np.arange(1,len(data)+1)\n",
    "x = plt.barh(li, data.values, tick_label=data.index, color=color)\n",
    "plt.axvline(x=df_directors.net_profit.mean(), color='C1')\n",
    "plt.gca().invert_yaxis()\n",
    "plt.title('Top {} of directors'.format(N))\n"
   ]
  },
  {
   "cell_type": "code",
   "execution_count": 37,
   "metadata": {},
   "outputs": [
    {
     "data": {
      "text/plain": [
       "Text(0.5,1,'Top 10 of genres')"
      ]
     },
     "execution_count": 37,
     "metadata": {},
     "output_type": "execute_result"
    },
    {
     "data": {
      "image/png": "[encoded data removed]",
      "text/plain": [
       "<matplotlib.figure.Figure at 0x7f2bf1afecc0>"
      ]
     },
     "metadata": {
      "needs_background": "light"
     },
     "output_type": "display_data"
    }
   ],
   "source": [
    "df_genres['top10_movies'] = np.repeat(False, len(df_genres))\n",
    "df_genres.loc[df_genres.id.isin(df_movies_top10.id),'top10_movies'] = True\n",
    "\n",
    "data = df_genres.query('top10_genres == True').groupby('genres')['net_profit'].mean().sort_values(ascending=False)\n",
    "data_ = df_genres.query('top10_genres == True and top10_movies == True')\n",
    "color = np.where(data.index.isin(data_.genres), 'C2', 'C0')\n",
    "li = np.arange(1,len(data)+1)\n",
    "x = plt.barh(li, data.values, tick_label=data.index, color=color)\n",
    "plt.gca().invert_yaxis()\n",
    "plt.axvline(x=df_genres.net_profit.mean(), color='C1')\n",
    "plt.title('Top {} of genres'.format(N))"
   ]
  },
  {
   "cell_type": "code",
   "execution_count": 38,
   "metadata": {
    "scrolled": false
   },
   "outputs": [
    {
     "data": {
      "text/plain": [
       "Text(0.5,1,'Top 10 of production companies')"
      ]
     },
     "execution_count": 38,
     "metadata": {},
     "output_type": "execute_result"
    },
    {
     "data": {
      "image/png": "[encoded data removed]",
      "text/plain": [
       "<matplotlib.figure.Figure at 0x7f2bf1bb7240>"
      ]
     },
     "metadata": {
      "needs_background": "light"
     },
     "output_type": "display_data"
    }
   ],
   "source": [
    "df_companies['top10_movies'] = np.repeat(False, len(df_companies))\n",
    "df_companies.loc[df_companies.id.isin(df_movies_top10.id),'top10_movies'] = True\n",
    "\n",
    "data = df_companies.query('top10_companies == True').groupby('production_companies')['net_profit'].mean().sort_values(ascending=False).head(N)\n",
    "data_ = df_companies.query('top10_companies == True and top10_movies == True')\n",
    "color = np.where(data.index.isin(data_.production_companies), 'C2', 'C0')\n",
    "li = np.arange(1,len(data)+1)\n",
    "x = plt.barh(li, data.values, tick_label=data.index, color=color)\n",
    "plt.gca().invert_yaxis()\n",
    "plt.axvline(x=df_companies.net_profit.mean(), color='C1')\n",
    "plt.title('Top {} of production companies'.format(N))"
   ]
  },
  {
   "cell_type": "markdown",
   "metadata": {},
   "source": [
    "<a id='conclusions'></a>\n",
    "## Conclusions\n",
    "\n",
    "If you consider to invest in movies and looking for profit. these are some advise:-\n",
    "\n",
    "#### in Terms of Cast\n",
    "The following casts did not participate in any non profitable movie and the average movies' profits, they have participated, is greater than the averege of all. Moreover, some of them have participated in the top 10 movies in terms of net profit.\n",
    "\n",
    "Rank|Cast|Top 10 Movies\n",
    "---|---|---\n",
    "1. | Mark Hamill|<img src=\"https://mastertrader.com/wp-content/uploads/2017/06/check-mark-icon.png\" alt=\"Yes\" style=\"width: 25px;\"/>\n",
    "2. | Rupert Grint|<img src=\"https://mastertrader.com/wp-content/uploads/2017/06/check-mark-icon.png\" alt=\"Yes\" style=\"width: 25px;\"/>\n",
    "3. |Ken Stott|\n",
    "4. |Richard Armitage|\n",
    "5. |Mary McDonnell|\n",
    "6. |Emma Watson|<img src=\"https://mastertrader.com/wp-content/uploads/2017/06/check-mark-icon.png\" alt=\"Yes\" style=\"width: 25px;\"/>\n",
    "7. |Carrie Fisher|<img src=\"https://mastertrader.com/wp-content/uploads/2017/06/check-mark-icon.png\" alt=\"Yes\" style=\"width: 25px;\"/>\n",
    "8. |Ian McDiarmid|\n",
    "9. |Daniel Radcliffe|<img src=\"https://mastertrader.com/wp-content/uploads/2017/06/check-mark-icon.png\" alt=\"Yes\" style=\"width: 25px;\"/>\n",
    "10. |Anthony Daniels|\n",
    "\n",
    "#### in Terms of Directors\n",
    "The following directors did not participate in any non profitable movie and the average movies' profits, they have participated, is greater than the averege of all. Moreover, some of them have participated in the top 10 movies in terms of net profit.\n",
    "\n",
    "Rank|Director|Top 10 Movies\n",
    "---|---|---\n",
    "1. |David Yates|<img src=\"https://mastertrader.com/wp-content/uploads/2017/06/check-mark-icon.png\" alt=\"Yes\" style=\"width: 25px;\"/>\n",
    "2. |Pierre Coffin|\n",
    "3. |Colin Trevorrow|<img src=\"https://mastertrader.com/wp-content/uploads/2017/06/check-mark-icon.png\" alt=\"Yes\" style=\"width: 25px;\"/>\n",
    "4. |Kyle Balda|\n",
    "5. |James Cameron|<img src=\"https://mastertrader.com/wp-content/uploads/2017/06/check-mark-icon.png\" alt=\"Yes\" style=\"width: 25px;\"/>\n",
    "6. |Lee Unkrich|\n",
    "7. |Joss Whedon|<img src=\"https://mastertrader.com/wp-content/uploads/2017/06/check-mark-icon.png\" alt=\"Yes\" style=\"width: 25px;\"/>\n",
    "8. |Chris Buck|<img src=\"https://mastertrader.com/wp-content/uploads/2017/06/check-mark-icon.png\" alt=\"Yes\" style=\"width: 25px;\"/>\n",
    "9. |J.J. Abrams|<img src=\"https://mastertrader.com/wp-content/uploads/2017/06/check-mark-icon.png\" alt=\"Yes\" style=\"width: 25px;\"/>\n",
    "10. |Pete Docter|\n",
    "\n",
    "#### in Terms of Genres\n",
    "The following Genres achieved movies' profits (in mean) greater than the average of all.\n",
    "\n",
    "Rank|Genre|Top 10 Movie\n",
    "---|---|---\n",
    "1. |Animation|<img src=\"https://mastertrader.com/wp-content/uploads/2017/06/check-mark-icon.png\" alt=\"Yes\" style=\"width: 25px;\"/>\n",
    "2. |Adventure|<img src=\"https://mastertrader.com/wp-content/uploads/2017/06/check-mark-icon.png\" alt=\"Yes\" style=\"width: 25px;\"/>\n",
    "3. |Fantasy|<img src=\"https://mastertrader.com/wp-content/uploads/2017/06/check-mark-icon.png\" alt=\"Yes\" style=\"width: 25px;\"/>\n",
    "4. |Family|<img src=\"https://mastertrader.com/wp-content/uploads/2017/06/check-mark-icon.png\" alt=\"Yes\" style=\"width: 25px;\"/>\n",
    "5. |Science Fiction|<img src=\"https://mastertrader.com/wp-content/uploads/2017/06/check-mark-icon.png\" alt=\"Yes\" style=\"width: 25px;\"/>\n",
    "6. |Action|<img src=\"https://mastertrader.com/wp-content/uploads/2017/06/check-mark-icon.png\" alt=\"Yes\" style=\"width: 25px;\"/>\n",
    "\n",
    "#### in Terms of Production Companies\n",
    "The following production companies did not participate in any non profitable movie and the average movies' profits, they have participated, is greater than the averege of all. Moreover, some of them have participated in the top 10 movies in terms of net profit.\n",
    "\n",
    "Rank|Production Company|Top 10 Movie\n",
    "---|---|---\n",
    "1. |Second Mate Productions|\n",
    "2. |Lightstorm Entertainment|<img src=\"https://mastertrader.com/wp-content/uploads/2017/06/check-mark-icon.png\" alt=\"Yes\" style=\"width: 25px;\"/>\n",
    "3. |One Race Films|<img src=\"https://mastertrader.com/wp-content/uploads/2017/06/check-mark-icon.png\" alt=\"Yes\" style=\"width: 25px;\"/>\n",
    "4. |Revolution Sun Studios|<img src=\"https://mastertrader.com/wp-content/uploads/2017/06/check-mark-icon.png\" alt=\"Yes\" style=\"width: 25px;\"/>\n",
    "5. |Heyday Films|<img src=\"https://mastertrader.com/wp-content/uploads/2017/06/check-mark-icon.png\" alt=\"Yes\" style=\"width: 25px;\"/>\n",
    "6. |Indochina Productions|\n",
    "7. |Illumination Entertainment|\n",
    "8. |Prime Focus|<img src=\"https://mastertrader.com/wp-content/uploads/2017/06/check-mark-icon.png\" alt=\"Yes\" style=\"width: 25px;\"/>\n",
    "9. |Marvel Studios|<img src=\"https://mastertrader.com/wp-content/uploads/2017/06/check-mark-icon.png\" alt=\"Yes\" style=\"width: 25px;\"/>\n",
    "10. |Imprint Entertainment|\n"
   ]
  },
  {
   "cell_type": "code",
   "execution_count": 39,
   "metadata": {},
   "outputs": [
    {
     "data": {
      "text/plain": [
       "0"
      ]
     },
     "execution_count": 39,
     "metadata": {},
     "output_type": "execute_result"
    }
   ],
   "source": [
    "from subprocess import call\n",
    "call(['python', '-m', 'nbconvert', 'Investigate_a_Dataset.ipynb'])"
   ]
  },
  {
   "cell_type": "code",
   "execution_count": null,
   "metadata": {},
   "outputs": [],
   "source": []
  },
  {
   "cell_type": "code",
   "execution_count": null,
   "metadata": {},
   "outputs": [],
   "source": []
  }
 ],
 "metadata": {
  "kernelspec": {
   "display_name": "Python 3",
   "language": "python",
   "name": "python3"
  },
  "language_info": {
   "codemirror_mode": {
    "name": "ipython",
    "version": 3
   },
   "file_extension": ".py",
   "mimetype": "text/x-python",
   "name": "python",
   "nbconvert_exporter": "python",
   "pygments_lexer": "ipython3",
   "version": "3.6.3"
  }
 },
 "nbformat": 4,
 "nbformat_minor": 2
}
